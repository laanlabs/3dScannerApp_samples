{
 "cells": [
  {
   "cell_type": "code",
   "execution_count": 1,
   "id": "f96471cc",
   "metadata": {},
   "outputs": [],
   "source": [
    "import utils\n",
    "import open3d as o3d"
   ]
  },
  {
   "cell_type": "code",
   "execution_count": 2,
   "id": "ba3ab17f",
   "metadata": {},
   "outputs": [
    {
     "name": "stdout",
     "output_type": "stream",
     "text": [
      "Original image size: (1920, 1440)\n",
      "Depth image size: (256, 192)\n",
      "Warning projection_matrix out of sync with K (0.13333333333333333, 0.13333333333333333)\n",
      "Warning projection_matrix out of sync with K (0.13333333333333333, 0.13333333333333333)\n",
      "Warning projection_matrix out of sync with K (0.13333333333333333, 0.13333333333333333)\n",
      "Warning projection_matrix out of sync with K (0.13333333333333333, 0.13333333333333333)\n",
      "Warning projection_matrix out of sync with K (0.13333333333333333, 0.13333333333333333)\n",
      "Warning projection_matrix out of sync with K (0.13333333333333333, 0.13333333333333333)\n",
      "Warning projection_matrix out of sync with K (0.13333333333333333, 0.13333333333333333)\n",
      "Warning projection_matrix out of sync with K (0.13333333333333333, 0.13333333333333333)\n",
      "Warning projection_matrix out of sync with K (0.13333333333333333, 0.13333333333333333)\n",
      "Warning projection_matrix out of sync with K (0.13333333333333333, 0.13333333333333333)\n",
      "Warning projection_matrix out of sync with K (0.13333333333333333, 0.13333333333333333)\n",
      "Warning projection_matrix out of sync with K (0.13333333333333333, 0.13333333333333333)\n",
      "Warning projection_matrix out of sync with K (0.13333333333333333, 0.13333333333333333)\n",
      "Warning projection_matrix out of sync with K (0.13333333333333333, 0.13333333333333333)\n",
      "Warning projection_matrix out of sync with K (0.13333333333333333, 0.13333333333333333)\n",
      "Warning projection_matrix out of sync with K (0.13333333333333333, 0.13333333333333333)\n",
      "Warning projection_matrix out of sync with K (0.13333333333333333, 0.13333333333333333)\n",
      "Warning projection_matrix out of sync with K (0.13333333333333333, 0.13333333333333333)\n",
      "Warning projection_matrix out of sync with K (0.13333333333333333, 0.13333333333333333)\n",
      "Warning projection_matrix out of sync with K (0.13333333333333333, 0.13333333333333333)\n",
      "Warning projection_matrix out of sync with K (0.13333333333333333, 0.13333333333333333)\n",
      "Warning projection_matrix out of sync with K (0.13333333333333333, 0.13333333333333333)\n",
      "Warning projection_matrix out of sync with K (0.13333333333333333, 0.13333333333333333)\n",
      "Warning projection_matrix out of sync with K (0.13333333333333333, 0.13333333333333333)\n",
      "Warning projection_matrix out of sync with K (0.13333333333333333, 0.13333333333333333)\n",
      "Warning projection_matrix out of sync with K (0.13333333333333333, 0.13333333333333333)\n",
      "Warning projection_matrix out of sync with K (0.13333333333333333, 0.13333333333333333)\n",
      "Warning projection_matrix out of sync with K (0.13333333333333333, 0.13333333333333333)\n",
      "Warning projection_matrix out of sync with K (0.13333333333333333, 0.13333333333333333)\n",
      "Warning projection_matrix out of sync with K (0.13333333333333333, 0.13333333333333333)\n",
      "Warning projection_matrix out of sync with K (0.13333333333333333, 0.13333333333333333)\n",
      "Warning projection_matrix out of sync with K (0.13333333333333333, 0.13333333333333333)\n",
      "Warning projection_matrix out of sync with K (0.13333333333333333, 0.13333333333333333)\n",
      "Warning projection_matrix out of sync with K (0.13333333333333333, 0.13333333333333333)\n",
      "Warning projection_matrix out of sync with K (0.13333333333333333, 0.13333333333333333)\n",
      "Warning projection_matrix out of sync with K (0.13333333333333333, 0.13333333333333333)\n",
      "Warning projection_matrix out of sync with K (0.13333333333333333, 0.13333333333333333)\n",
      "Warning projection_matrix out of sync with K (0.13333333333333333, 0.13333333333333333)\n",
      "Warning projection_matrix out of sync with K (0.13333333333333333, 0.13333333333333333)\n",
      "Warning projection_matrix out of sync with K (0.13333333333333333, 0.13333333333333333)\n",
      "Warning projection_matrix out of sync with K (0.13333333333333333, 0.13333333333333333)\n",
      "Warning projection_matrix out of sync with K (0.13333333333333333, 0.13333333333333333)\n",
      "Warning projection_matrix out of sync with K (0.13333333333333333, 0.13333333333333333)\n",
      "Warning projection_matrix out of sync with K (0.13333333333333333, 0.13333333333333333)\n",
      "Warning projection_matrix out of sync with K (0.13333333333333333, 0.13333333333333333)\n",
      "Warning projection_matrix out of sync with K (0.13333333333333333, 0.13333333333333333)\n",
      "Warning projection_matrix out of sync with K (0.13333333333333333, 0.13333333333333333)\n",
      "Warning projection_matrix out of sync with K (0.13333333333333333, 0.13333333333333333)\n",
      "Warning projection_matrix out of sync with K (0.13333333333333333, 0.13333333333333333)\n",
      "Warning projection_matrix out of sync with K (0.13333333333333333, 0.13333333333333333)\n",
      "Warning projection_matrix out of sync with K (0.13333333333333333, 0.13333333333333333)\n",
      "Warning projection_matrix out of sync with K (0.13333333333333333, 0.13333333333333333)\n",
      "Warning projection_matrix out of sync with K (0.13333333333333333, 0.13333333333333333)\n",
      "Warning projection_matrix out of sync with K (0.13333333333333333, 0.13333333333333333)\n",
      "Warning projection_matrix out of sync with K (0.13333333333333333, 0.13333333333333333)\n",
      "Warning projection_matrix out of sync with K (0.13333333333333333, 0.13333333333333333)\n",
      "Warning projection_matrix out of sync with K (0.13333333333333333, 0.13333333333333333)\n",
      "Warning projection_matrix out of sync with K (0.13333333333333333, 0.13333333333333333)\n",
      "Warning projection_matrix out of sync with K (0.13333333333333333, 0.13333333333333333)\n",
      "Warning projection_matrix out of sync with K (0.13333333333333333, 0.13333333333333333)\n",
      "Warning projection_matrix out of sync with K (0.13333333333333333, 0.13333333333333333)\n",
      "Warning projection_matrix out of sync with K (0.13333333333333333, 0.13333333333333333)\n",
      "Warning projection_matrix out of sync with K (0.13333333333333333, 0.13333333333333333)\n",
      "Warning projection_matrix out of sync with K (0.13333333333333333, 0.13333333333333333)\n",
      "Warning projection_matrix out of sync with K (0.13333333333333333, 0.13333333333333333)\n",
      "Warning projection_matrix out of sync with K (0.13333333333333333, 0.13333333333333333)\n",
      "Warning projection_matrix out of sync with K (0.13333333333333333, 0.13333333333333333)\n",
      "Warning projection_matrix out of sync with K (0.13333333333333333, 0.13333333333333333)\n",
      "Warning projection_matrix out of sync with K (0.13333333333333333, 0.13333333333333333)\n",
      "Warning projection_matrix out of sync with K (0.13333333333333333, 0.13333333333333333)\n",
      "Loaded 24 frames \n"
     ]
    }
   ],
   "source": [
    "scan_path = \"./chair_scan/\"\n",
    "frames = utils.load_scan_frames_no_video(scan_path, scale_intrinsics_to_depth=True)"
   ]
  },
  {
   "cell_type": "code",
   "execution_count": 3,
   "id": "f2680b44",
   "metadata": {},
   "outputs": [
    {
     "name": "stdout",
     "output_type": "stream",
     "text": [
      "[warning] resized color image to depth \n"
     ]
    }
   ],
   "source": [
    "f0 = frames[0]\n",
    "cloud0 = f0.to_cloud(transform=True, estimate_normals=False)"
   ]
  },
  {
   "cell_type": "code",
   "execution_count": 5,
   "id": "2e95a26c",
   "metadata": {},
   "outputs": [
    {
     "name": "stdout",
     "output_type": "stream",
     "text": [
      "\u001b[1;33m[Open3D WARNING] GLFW Error: Cocoa: Failed to find service port for display\u001b[0;m\n"
     ]
    }
   ],
   "source": [
    "o3d.visualization.draw_geometries([cloud0])"
   ]
  },
  {
   "cell_type": "code",
   "execution_count": 6,
   "id": "d96e34c3",
   "metadata": {},
   "outputs": [
    {
     "name": "stdout",
     "output_type": "stream",
     "text": [
      "[warning] resized color image to depth \n",
      "[warning] resized color image to depth \n",
      "[warning] resized color image to depth \n",
      "[warning] resized color image to depth \n",
      "[warning] resized color image to depth \n",
      "[warning] resized color image to depth \n",
      "[warning] resized color image to depth \n",
      "[warning] resized color image to depth \n",
      "[warning] resized color image to depth \n",
      "[warning] resized color image to depth \n",
      "[warning] resized color image to depth \n",
      "[warning] resized color image to depth \n",
      "[warning] resized color image to depth \n",
      "[warning] resized color image to depth \n",
      "[warning] resized color image to depth \n",
      "[warning] resized color image to depth \n",
      "[warning] resized color image to depth \n",
      "[warning] resized color image to depth \n",
      "[warning] resized color image to depth \n",
      "[warning] resized color image to depth \n",
      "[warning] resized color image to depth \n",
      "[warning] resized color image to depth \n",
      "[warning] resized color image to depth \n",
      "[warning] resized color image to depth \n",
      "\u001b[1;33m[Open3D WARNING] GLFW Error: Cocoa: Failed to find service port for display\u001b[0;m\n"
     ]
    }
   ],
   "source": [
    "utils.show_frames_3d(frames, pose_step=1, cloud_step=1)"
   ]
  },
  {
   "cell_type": "code",
   "execution_count": null,
   "id": "318f9e47",
   "metadata": {},
   "outputs": [],
   "source": []
  }
 ],
 "metadata": {
  "kernelspec": {
   "display_name": "Python 3",
   "language": "python",
   "name": "python3"
  },
  "language_info": {
   "codemirror_mode": {
    "name": "ipython",
    "version": 3
   },
   "file_extension": ".py",
   "mimetype": "text/x-python",
   "name": "python",
   "nbconvert_exporter": "python",
   "pygments_lexer": "ipython3",
   "version": "3.8.8"
  }
 },
 "nbformat": 4,
 "nbformat_minor": 5
}
